{
 "cells": [
  {
   "cell_type": "markdown",
   "metadata": {},
   "source": [
    "# Getting Started with Backtest.jl\n",
    "This notebook serves as an introduction to the Backtest.jl project. After tracking through this notebook, you should be able to:\n",
    "1. understand the basic nomenclature of the Backtest.jl framework: Bars, Fields, and Assets,\n",
    "2. understand how to create ConcreteField, DataReader, Order, and StrategyOptions objects, and\n",
    "3. understand how to run a basic backtest from start->finish."
   ]
  },
  {
   "cell_type": "markdown",
   "metadata": {},
   "source": [
    "## Backtest.jl nomenclature\n",
    "Overall, there are three dimensions to any datapoint that is processed by the Backtest.jl framework: bar, field, and asset. Here are some definitions:\n",
    "- bar - a period of time that can is identified by a start time. Example: \"2020-01-04::10:00:00\" \n",
    "- asset - the name of an financial asset (usually an equity name). Example: \"AAPL\"\n",
    "- field - an datapoint associated with a particular asset at a particular time. Examples: ClosePrice, SimpleMovingAverageOfCloseOverLast10Bars, BarOverBarPercentChange\n",
    "\n",
    "Suppose we want to conduct a simple-moving-average momentum crossover strategy with \"AAPL\" stock. Then each datapoint would have a time associated with it - the **bar**; our simple moving average calculation would be calculated and stored after each new bar comes in - the **field**; and we'd be trading \"AAPL\" - the **asset**. \n",
    "\n",
    "\n",
    "This example is a simple usage of this nomenclature, but here's another example. We could also use Backtest.jl to do a pairs-trading strategy. We could define the problem as such:\n",
    "+ Assets: \"AAPL\" and \"MSFT\"\n",
    "+ Bars: all minute-level bars from 2015 to 2018\n",
    "+ Fields:\n",
    "    + \"ClosePrice\"\n",
    "    + \"5BarClosingPriceMovingAverage\" (computed using \"ClosePrice\")\n",
    "    + \"StdDeviationOf[5BarClosingPriceMovingAverage]\" (computed using \"5BarClosingPriceMovingAverage\")\n",
    "The strategy could then entail buying \"AAPL\" when the field \"StdDeviationOf[5BarClosingPriceMovingAverage]\" for \"AAPL\" is much lower than the same field for \"MSFT\" (effectively expecting that \"MSFT\" and \"AAPL\" should grow in tandem).\n",
    "\n",
    "This more nuanced example illuminates an important aspect of the Backtest.jl framework: the fields dependency tree. Fields can depend on each other (so long as there are no circular dependencies)."
   ]
  },
  {
   "cell_type": "code",
   "execution_count": null,
   "metadata": {},
   "outputs": [],
   "source": []
  }
 ],
 "metadata": {
  "kernelspec": {
   "display_name": "Julia 1.5.0",
   "language": "julia",
   "name": "julia-1.5"
  },
  "language_info": {
   "file_extension": ".jl",
   "mimetype": "application/julia",
   "name": "julia",
   "version": "1.5.0"
  }
 },
 "nbformat": 4,
 "nbformat_minor": 4
}
